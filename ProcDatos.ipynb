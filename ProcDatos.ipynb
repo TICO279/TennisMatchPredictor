{
 "cells": [
  {
   "cell_type": "markdown",
   "id": "5706a79d",
   "metadata": {},
   "source": [
    "# Aqui vamos a hacer un procesamiento basico de datos, y estadisticas relevantes"
   ]
  },
  {
   "cell_type": "code",
   "execution_count": null,
   "id": "4e125612",
   "metadata": {},
   "outputs": [
    {
     "data": {
      "text/html": [
       "\n",
       "            <div>\n",
       "                <ins><a href=\"https://ydata.ai/register\">Upgrade to ydata-sdk</a></ins>\n",
       "                <p>\n",
       "                    Improve your data and profiling with ydata-sdk, featuring data quality scoring, redundancy detection, outlier identification, text validation, and synthetic data generation.\n",
       "                </p>\n",
       "            </div>\n",
       "            "
      ],
      "text/plain": [
       "<IPython.core.display.HTML object>"
      ]
     },
     "metadata": {},
     "output_type": "display_data"
    },
    {
     "name": "stderr",
     "output_type": "stream",
     "text": [
      "C:\\Users\\patri\\AppData\\Local\\Temp\\ipykernel_20952\\2615385722.py:33: FutureWarning: errors='ignore' is deprecated and will raise in a future version. Use to_numeric without passing `errors` and catch exceptions explicitly instead\n",
      "  c_num = pd.to_numeric(df[col], errors=\"ignore\")\n",
      "C:\\Users\\patri\\AppData\\Local\\Temp\\ipykernel_20952\\2615385722.py:38: FutureWarning: Downcasting object dtype arrays on .fillna, .ffill, .bfill is deprecated and will change in a future version. Call result.infer_objects(copy=False) instead. To opt-in to the future behavior, set `pd.set_option('future.no_silent_downcasting', True)`\n",
      "  if df[col].dtype == \"O\" and df[col].str.match(r\"\\d{4}-\\d{2}-\\d{2}\").fillna(False).mean() > 0.2:\n"
     ]
    },
    {
     "data": {
      "application/vnd.jupyter.widget-view+json": {
       "model_id": "64060a47d00e47eab5af270c52d1f97c",
       "version_major": 2,
       "version_minor": 0
      },
      "text/plain": [
       "Summarize dataset:   0%|          | 0/5 [00:00<?, ?it/s]"
      ]
     },
     "metadata": {},
     "output_type": "display_data"
    },
    {
     "name": "stderr",
     "output_type": "stream",
     "text": [
      "100%|██████████| 50/50 [00:00<00:00, 224.06it/s]\n"
     ]
    },
    {
     "data": {
      "application/vnd.jupyter.widget-view+json": {
       "model_id": "7a3c86b04da44c9b9aab44d186e58ef0",
       "version_major": 2,
       "version_minor": 0
      },
      "text/plain": [
       "Generate report structure:   0%|          | 0/1 [00:00<?, ?it/s]"
      ]
     },
     "metadata": {},
     "output_type": "display_data"
    },
    {
     "data": {
      "application/vnd.jupyter.widget-view+json": {
       "model_id": "6f83664dfea74c349b95c2fc7c1d5909",
       "version_major": 2,
       "version_minor": 0
      },
      "text/plain": [
       "Render HTML:   0%|          | 0/1 [00:00<?, ?it/s]"
      ]
     },
     "metadata": {},
     "output_type": "display_data"
    },
    {
     "data": {
      "application/vnd.jupyter.widget-view+json": {
       "model_id": "2fd81282fc47427797bfcc431c586760",
       "version_major": 2,
       "version_minor": 0
      },
      "text/plain": [
       "Export report to file:   0%|          | 0/1 [00:00<?, ?it/s]"
      ]
     },
     "metadata": {},
     "output_type": "display_data"
    },
    {
     "name": "stdout",
     "output_type": "stream",
     "text": [
      "Reporte generado: profile.html\n",
      "Forma: 13174 filas x 50 columnas\n"
     ]
    }
   ],
   "source": [
    "# === Requisitos (una sola vez) ===\n",
    "# pip install ydata-profiling[notebook] scipy\n",
    "\n",
    "#Se esta usando un ambiente de conda de python 3.12.11 \n",
    "import os\n",
    "import pandas as pd\n",
    "import numpy as np\n",
    "from ydata_profiling import ProfileReport\n",
    "\n",
    "# ------- Config --------\n",
    "FOLDER = \"Datos\"          # Carpeta con CSVs\n",
    "REPORT = \"profile.html\"   # Salida del reporte\n",
    "SAMPLE = None             # e.g., 20000 para muestrear filas si es muy grande\n",
    "\n",
    "# 1) Cargar y unir CSVs\n",
    "files = [f for f in os.listdir(FOLDER) if f.lower().endswith(\".csv\")]\n",
    "if not files:\n",
    "    raise FileNotFoundError(f\"No hay CSVs en '{FOLDER}'\")\n",
    "\n",
    "dfs = []\n",
    "for f in files:\n",
    "    path = os.path.join(FOLDER, f)\n",
    "    # dtype=object evita inferencias agresivas; luego convertimos\n",
    "    df_part = pd.read_csv(path, dtype=object, low_memory=False)\n",
    "    df_part[\"__archivo_origen\"] = f\n",
    "    dfs.append(df_part)\n",
    "\n",
    "df = pd.concat(dfs, ignore_index=True)\n",
    "\n",
    "# 2) Limpieza mínima: normalizar tipos numéricos y fechas\n",
    "#    (ajusta columnas si ya conoces sus nombres)\n",
    "for col in df.columns:\n",
    "    # intenta número\n",
    "    c_num = pd.to_numeric(df[col], errors=\"ignore\")\n",
    "    if not isinstance(c_num, pd.Series) or c_num.dtype != \"O\":\n",
    "        df[col] = c_num\n",
    "        continue\n",
    "    # intenta fecha (si parece fecha)\n",
    "    if df[col].dtype == \"O\" and df[col].str.match(r\"\\d{4}-\\d{2}-\\d{2}\").fillna(False).mean() > 0.2:\n",
    "        df[col] = pd.to_datetime(df[col], errors=\"coerce\")\n",
    "\n",
    "# 3) Muestreo opcional si hay millones de filas\n",
    "if SAMPLE is not None and len(df) > SAMPLE:\n",
    "    df = df.sample(SAMPLE, random_state=42).reset_index(drop=True)\n",
    "\n",
    "# 4) Crear perfil (minimal=True si es muy pesado)\n",
    "profile = ProfileReport(\n",
    "    df,\n",
    "    title=\"Perfil de Datos – Minería\",\n",
    "    explorative=True,    # interfaz rica (tabs)\n",
    "    minimal=False,       # aqui lo podriamos poner en True si el dataset es muy grande\n",
    "    correlations={\n",
    "        \"pearson\": {\"calculate\": True},\n",
    "        \"spearman\": {\"calculate\": True},\n",
    "        \"phi_k\": {\"calculate\": False},  # activa si hay muchas categóricas\n",
    "        \"cramers\": {\"calculate\": True}\n",
    "    },\n",
    "    interactions={\"continuous\": True},\n",
    "    duplicates={\"head\": 10},\n",
    "    samples={\"head\": 10, \"tail\": 10}\n",
    ")\n",
    "\n",
    "profile.to_file(REPORT)\n",
    "print(f\"Reporte generado: {REPORT}\")\n",
    "print(f\"Forma: {df.shape[0]} filas x {df.shape[1]} columnas\")\n"
   ]
  }
 ],
 "metadata": {
  "kernelspec": {
   "display_name": "Python (Mineria)",
   "language": "python",
   "name": "mineria"
  },
  "language_info": {
   "codemirror_mode": {
    "name": "ipython",
    "version": 3
   },
   "file_extension": ".py",
   "mimetype": "text/x-python",
   "name": "python",
   "nbconvert_exporter": "python",
   "pygments_lexer": "ipython3",
   "version": "3.12.11"
  }
 },
 "nbformat": 4,
 "nbformat_minor": 5
}
